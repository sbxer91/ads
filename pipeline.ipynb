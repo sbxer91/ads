{
 "cells": [
  {
   "cell_type": "code",
   "execution_count": 28,
   "id": "92c6a328-4e66-4d07-802f-38863e4206d0",
   "metadata": {},
   "outputs": [
    {
     "name": "stdout",
     "output_type": "stream",
     "text": [
      "Requirement already satisfied: requests in /Library/Frameworks/Python.framework/Versions/3.13/lib/python3.13/site-packages (2.32.3)\n",
      "Requirement already satisfied: charset-normalizer<4,>=2 in /Library/Frameworks/Python.framework/Versions/3.13/lib/python3.13/site-packages (from requests) (3.4.1)\n",
      "Requirement already satisfied: idna<4,>=2.5 in /Library/Frameworks/Python.framework/Versions/3.13/lib/python3.13/site-packages (from requests) (3.10)\n",
      "Requirement already satisfied: urllib3<3,>=1.21.1 in /Library/Frameworks/Python.framework/Versions/3.13/lib/python3.13/site-packages (from requests) (2.3.0)\n",
      "Requirement already satisfied: certifi>=2017.4.17 in /Library/Frameworks/Python.framework/Versions/3.13/lib/python3.13/site-packages (from requests) (2024.12.14)\n"
     ]
    }
   ],
   "source": [
    "!pip install requests"
   ]
  },
  {
   "cell_type": "code",
   "execution_count": 29,
   "id": "3e7007f0-5aad-49dd-ac5e-f753b9f6b800",
   "metadata": {},
   "outputs": [
    {
     "name": "stderr",
     "output_type": "stream",
     "text": [
      "IOPub data rate exceeded.\n",
      "The Jupyter server will temporarily stop sending output\n",
      "to the client in order to avoid crashing it.\n",
      "To change this limit, set the config variable\n",
      "`--ServerApp.iopub_data_rate_limit`.\n",
      "\n",
      "Current values:\n",
      "ServerApp.iopub_data_rate_limit=1000000.0 (bytes/sec)\n",
      "ServerApp.rate_limit_window=3.0 (secs)\n",
      "\n"
     ]
    }
   ],
   "source": [
    "import requests\n",
    "import json\n",
    "\n",
    "# URL of the JSON file\n",
    "url = \"https://samples.adsbexchange.com/readsb-hist/2024/01/01/000000Z.json.gz\"  # Replace with your JSON file's URL\n",
    "\n",
    "# Fetch the JSON from the web\n",
    "response = requests.get(url)\n",
    "\n",
    "# Check if the request was successful\n",
    "if response.status_code == 200:\n",
    "    # Parse the JSON\n",
    "    data = response.json()  # Automatically decodes JSON into Python objects\n",
    "    print(data)  # Display the JSON data\n",
    "else:\n",
    "    print(f\"Failed to fetch JSON. HTTP Status Code: {response.status_code}\")\n"
   ]
  },
  {
   "cell_type": "code",
   "execution_count": null,
   "id": "8b2edfdc-3bf1-4f1b-b75d-b78bfb0d5132",
   "metadata": {},
   "outputs": [],
   "source": []
  },
  {
   "cell_type": "code",
   "execution_count": 30,
   "id": "28ca9d2f-b016-4939-8de4-2c24a7d2ff9a",
   "metadata": {},
   "outputs": [],
   "source": [
    "import requests\n",
    "\n",
    "# URL of the JSON file\n",
    "url = \"https://samples.adsbexchange.com/readsb-hist/2024/01/01/000000Z.json.gz\"  # Replace with your JSON file's URL\n",
    "\n",
    "# Fetch the JSON\n",
    "response = requests.get(url)\n",
    "\n",
    "# Parse the JSON if request was successful\n",
    "if response.status_code == 200:\n",
    "    data = response.json()\n",
    "else:\n",
    "    raise Exception(f\"Failed to fetch JSON. HTTP Status Code: {response.status_code}\")\n"
   ]
  },
  {
   "cell_type": "code",
   "execution_count": 31,
   "id": "7dbabadf-2f3d-436f-9e43-3ee7091e5ce1",
   "metadata": {},
   "outputs": [
    {
     "name": "stdout",
     "output_type": "stream",
     "text": [
      "Requirement already satisfied: pandas in /Library/Frameworks/Python.framework/Versions/3.13/lib/python3.13/site-packages (2.2.3)\n",
      "Requirement already satisfied: numpy>=1.26.0 in /Library/Frameworks/Python.framework/Versions/3.13/lib/python3.13/site-packages (from pandas) (2.2.2)\n",
      "Requirement already satisfied: python-dateutil>=2.8.2 in /Library/Frameworks/Python.framework/Versions/3.13/lib/python3.13/site-packages (from pandas) (2.9.0.post0)\n",
      "Requirement already satisfied: pytz>=2020.1 in /Library/Frameworks/Python.framework/Versions/3.13/lib/python3.13/site-packages (from pandas) (2024.2)\n",
      "Requirement already satisfied: tzdata>=2022.7 in /Library/Frameworks/Python.framework/Versions/3.13/lib/python3.13/site-packages (from pandas) (2025.1)\n",
      "Requirement already satisfied: six>=1.5 in /Library/Frameworks/Python.framework/Versions/3.13/lib/python3.13/site-packages (from python-dateutil>=2.8.2->pandas) (1.17.0)\n",
      "Note: you may need to restart the kernel to use updated packages.\n"
     ]
    }
   ],
   "source": [
    "pip install pandas"
   ]
  },
  {
   "cell_type": "code",
   "execution_count": 32,
   "id": "d1e89e46-e243-4a96-8b1c-d8b2789c99e9",
   "metadata": {},
   "outputs": [
    {
     "name": "stdout",
     "output_type": "stream",
     "text": [
      "Requirement already satisfied: pandas in /Library/Frameworks/Python.framework/Versions/3.13/lib/python3.13/site-packages (2.2.3)\n",
      "Requirement already satisfied: requests in /Library/Frameworks/Python.framework/Versions/3.13/lib/python3.13/site-packages (2.32.3)\n",
      "Requirement already satisfied: numpy>=1.26.0 in /Library/Frameworks/Python.framework/Versions/3.13/lib/python3.13/site-packages (from pandas) (2.2.2)\n",
      "Requirement already satisfied: python-dateutil>=2.8.2 in /Library/Frameworks/Python.framework/Versions/3.13/lib/python3.13/site-packages (from pandas) (2.9.0.post0)\n",
      "Requirement already satisfied: pytz>=2020.1 in /Library/Frameworks/Python.framework/Versions/3.13/lib/python3.13/site-packages (from pandas) (2024.2)\n",
      "Requirement already satisfied: tzdata>=2022.7 in /Library/Frameworks/Python.framework/Versions/3.13/lib/python3.13/site-packages (from pandas) (2025.1)\n",
      "Requirement already satisfied: charset-normalizer<4,>=2 in /Library/Frameworks/Python.framework/Versions/3.13/lib/python3.13/site-packages (from requests) (3.4.1)\n",
      "Requirement already satisfied: idna<4,>=2.5 in /Library/Frameworks/Python.framework/Versions/3.13/lib/python3.13/site-packages (from requests) (3.10)\n",
      "Requirement already satisfied: urllib3<3,>=1.21.1 in /Library/Frameworks/Python.framework/Versions/3.13/lib/python3.13/site-packages (from requests) (2.3.0)\n",
      "Requirement already satisfied: certifi>=2017.4.17 in /Library/Frameworks/Python.framework/Versions/3.13/lib/python3.13/site-packages (from requests) (2024.12.14)\n",
      "Requirement already satisfied: six>=1.5 in /Library/Frameworks/Python.framework/Versions/3.13/lib/python3.13/site-packages (from python-dateutil>=2.8.2->pandas) (1.17.0)\n"
     ]
    }
   ],
   "source": [
    "!pip install pandas requests\n"
   ]
  },
  {
   "cell_type": "code",
   "execution_count": 33,
   "id": "2b9e8928-dd76-466b-b171-fdee559674bb",
   "metadata": {},
   "outputs": [
    {
     "name": "stdout",
     "output_type": "stream",
     "text": [
      "application/json\n"
     ]
    }
   ],
   "source": [
    "import requests\n",
    "\n",
    "url = \"https://samples.adsbexchange.com/readsb-hist/2024/01/01/000000Z.json.gz\"  # Replace with your URL\n",
    "\n",
    "# Fetch the file from the web\n",
    "response = requests.get(url)\n",
    "\n",
    "# Check content type\n",
    "print(response.headers.get('Content-Type'))\n",
    "\n",
    "# Save the content to inspect manually (optional)\n",
    "with open(\"downloaded_file.json\", \"wb\") as f:\n",
    "    f.write(response.content)\n"
   ]
  },
  {
   "cell_type": "code",
   "execution_count": 34,
   "id": "b69a1acd-0365-4380-bc53-2ecd39bd48db",
   "metadata": {},
   "outputs": [
    {
     "name": "stdout",
     "output_type": "stream",
     "text": [
      "              now   messages  \\\n",
      "0    1.704067e+09  148041829   \n",
      "1    1.704067e+09  148041829   \n",
      "2    1.704067e+09  148041829   \n",
      "3    1.704067e+09  148041829   \n",
      "4    1.704067e+09  148041829   \n",
      "..            ...        ...   \n",
      "495  1.704067e+09  148041829   \n",
      "496  1.704067e+09  148041829   \n",
      "497  1.704067e+09  148041829   \n",
      "498  1.704067e+09  148041829   \n",
      "499  1.704067e+09  148041829   \n",
      "\n",
      "                                              aircraft  \n",
      "0    {'hex': '71c083', 'type': 'adsb_icao', 'flight...  \n",
      "1    {'hex': 'c01734', 'type': 'other', 'r': 'C-FIU...  \n",
      "2    {'hex': '86e800', 'type': 'other', 'r': 'JA875...  \n",
      "3    {'hex': '86eb36', 'type': 'other', 'flight': '...  \n",
      "4    {'hex': '86d9f4', 'type': 'other', 'r': 'JA837...  \n",
      "..                                                 ...  \n",
      "495  {'hex': 'a2c934', 'type': 'adsb_icao', 'flight...  \n",
      "496  {'hex': '899022', 'type': 'adsb_icao', 'flight...  \n",
      "497  {'hex': 'abaa1a', 'type': 'adsb_icao', 'flight...  \n",
      "498  {'hex': 'ab2372', 'type': 'adsb_icao', 'flight...  \n",
      "499  {'hex': 'a62e6c', 'type': 'adsb_icao', 'flight...  \n",
      "\n",
      "[500 rows x 3 columns]\n"
     ]
    }
   ],
   "source": [
    "import pandas as pd\n",
    "from io import BytesIO\n",
    "import requests\n",
    "\n",
    "# URL of the JSON file\n",
    "url = \"https://samples.adsbexchange.com/readsb-hist/2024/01/01/000000Z.json.gz\"  # Replace with your URL\n",
    "\n",
    "# Fetch the JSON file from the web\n",
    "response = requests.get(url)\n",
    "if response.status_code == 200:\n",
    "    # Load the JSON data into a Pandas DataFrame\n",
    "    data = pd.read_json(BytesIO(response.content))\n",
    "else:\n",
    "    raise Exception(f\"Failed to fetch file. HTTP Status Code: {response.status_code}\")\n",
    "\n",
    "# Extract the first 500 rows\n",
    "first_500_rows = data.head(500)\n",
    "\n",
    "# Display the result\n",
    "print(first_500_rows)\n"
   ]
  },
  {
   "cell_type": "code",
   "execution_count": 35,
   "id": "64d69a2c-d33b-46b8-9017-066f71f66cd7",
   "metadata": {},
   "outputs": [
    {
     "name": "stdout",
     "output_type": "stream",
     "text": [
      "            now   messages                                           aircraft\n",
      "0  1.704067e+09  148041829  {'hex': '71c083', 'type': 'adsb_icao', 'flight...\n",
      "1  1.704067e+09  148041829  {'hex': 'c01734', 'type': 'other', 'r': 'C-FIU...\n",
      "2  1.704067e+09  148041829  {'hex': '86e800', 'type': 'other', 'r': 'JA875...\n",
      "3  1.704067e+09  148041829  {'hex': '86eb36', 'type': 'other', 'flight': '...\n",
      "4  1.704067e+09  148041829  {'hex': '86d9f4', 'type': 'other', 'r': 'JA837...\n"
     ]
    }
   ],
   "source": [
    "print(data.head())\n"
   ]
  },
  {
   "cell_type": "code",
   "execution_count": 36,
   "id": "a71701c9-f66c-4a36-a0f7-42af55d45e86",
   "metadata": {},
   "outputs": [
    {
     "name": "stdout",
     "output_type": "stream",
     "text": [
      "      hex       type  flight       r     t  alt_baro        lat         lon\n",
      "0  71c083  adsb_icao  KAL074  HL8083  B789     38000  61.179932 -173.716703\n",
      "1  c01734      other     NaN  C-FIUL  B77W     32000  57.906609 -171.506378\n"
     ]
    }
   ],
   "source": [
    "import json\n",
    "import pandas as pd\n",
    "\n",
    "# JSON string (use your actual JSON data)\n",
    "json_data = '''\n",
    "{\n",
    "  \"now\": 1704067199.122,\n",
    "  \"messages\": 148041829,\n",
    "  \"aircraft\": [\n",
    "    {\"hex\": \"71c083\", \"type\": \"adsb_icao\", \"flight\": \"KAL074\", \"r\": \"HL8083\", \"t\": \"B789\", \"alt_baro\": 38000, \"lat\": 61.179932, \"lon\": -173.716703},\n",
    "    {\"hex\": \"c01734\", \"type\": \"other\", \"r\": \"C-FIUL\", \"t\": \"B77W\", \"alt_baro\": 32000, \"lat\": 57.906609, \"lon\": -171.506378}\n",
    "  ]\n",
    "}\n",
    "'''\n",
    "\n",
    "try:\n",
    "    # Parse the JSON string\n",
    "    raw_data = json.loads(json_data)  # Load JSON string into raw_data dictionary\n",
    "\n",
    "    # Extract the \"aircraft\" key\n",
    "    aircraft_data = raw_data[\"aircraft\"]\n",
    "\n",
    "    # Convert the \"aircraft\" data into a Pandas DataFrame\n",
    "    df = pd.DataFrame(aircraft_data)\n",
    "\n",
    "    # Display the first few rows of the DataFrame\n",
    "    print(df.head())\n",
    "\n",
    "except json.JSONDecodeError as e:\n",
    "    print(f\"Error decoding JSON: {e}\")\n"
   ]
  },
  {
   "cell_type": "code",
   "execution_count": 37,
   "id": "7fb29095-a3a8-4a8b-968f-c57e0d291e89",
   "metadata": {},
   "outputs": [
    {
     "name": "stdout",
     "output_type": "stream",
     "text": [
      "{'now': 1704067199.122, 'messages': 148041829, 'aircraft': [{'hex': '71c083', 'type': 'adsb_icao', 'flight': 'KAL074', 'r': 'HL8083', 't': 'B789', 'alt_baro': 38000, 'lat': 61.179932, 'lon': -173.716703}, {'hex': 'c01734', 'type': 'other', 'r': 'C-FIUL', 't': 'B77W', 'alt_baro': 32000, 'lat': 57.906609, 'lon': -171.506378}]}\n"
     ]
    }
   ],
   "source": [
    "print(raw_data)\n"
   ]
  },
  {
   "cell_type": "code",
   "execution_count": 38,
   "id": "4467c2e9-8429-456b-990c-ac7a30243146",
   "metadata": {},
   "outputs": [
    {
     "name": "stdout",
     "output_type": "stream",
     "text": [
      "Aircraft key exists!\n"
     ]
    }
   ],
   "source": [
    "if \"aircraft\" in raw_data:\n",
    "    print(\"Aircraft key exists!\")\n",
    "else:\n",
    "    print(\"Aircraft key is missing!\")"
   ]
  },
  {
   "cell_type": "code",
   "execution_count": 39,
   "id": "f14c004a-a1ed-4a38-b999-3f28831ab534",
   "metadata": {},
   "outputs": [
    {
     "name": "stdout",
     "output_type": "stream",
     "text": [
      "      hex       type  flight       r     t  alt_baro        lat         lon\n",
      "0  71c083  adsb_icao  KAL074  HL8083  B789     38000  61.179932 -173.716703\n",
      "1  c01734      other     NaN  C-FIUL  B77W     32000  57.906609 -171.506378\n"
     ]
    }
   ],
   "source": [
    "# JSON string (replace with your actual data)\n",
    "json_data = '''\n",
    "{\n",
    "  \"now\" : 1704067199.122,\n",
    "  \"messages\" : 148041829,\n",
    "  \"aircraft\" : [\n",
    "    {\"hex\":\"71c083\",\"type\":\"adsb_icao\",\"flight\":\"KAL074\",\"r\":\"HL8083\",\"t\":\"B789\",\"alt_baro\":38000,\"lat\":61.179932,\"lon\":-173.716703},\n",
    "    {\"hex\":\"c01734\",\"type\":\"other\",\"r\":\"C-FIUL\",\"t\":\"B77W\",\"alt_baro\":32000,\"lat\":57.906609,\"lon\":-171.506378}\n",
    "  ]\n",
    "}\n",
    "'''\n",
    "\n",
    "# Parse the JSON string\n",
    "raw_data = json.loads(json_data)\n",
    "\n",
    "# Extract and process the \"aircraft\" data\n",
    "aircraft_data = raw_data[\"aircraft\"]\n",
    "df = pd.DataFrame(aircraft_data)\n",
    "\n",
    "# Display the DataFrame\n",
    "print(df.head())"
   ]
  },
  {
   "cell_type": "code",
   "execution_count": 40,
   "id": "ff9690cb-b725-4e5a-b5d1-e166950b469d",
   "metadata": {},
   "outputs": [],
   "source": [
    "# Rename columns to their correct names\n",
    "data = data.rename(columns={\n",
    "    'lat': 'Latitude',\n",
    "    'lon': 'Longitude',\n",
    "    'alt_baro': 'Altitude_Barometer'\n",
    "})\n"
   ]
  },
  {
   "cell_type": "code",
   "execution_count": 41,
   "id": "5780f144-7b21-456a-a263-84b60a0f3398",
   "metadata": {},
   "outputs": [
    {
     "name": "stdout",
     "output_type": "stream",
     "text": [
      "<class 'pandas.core.frame.DataFrame'>\n",
      "Index(['now', 'messages', 'aircraft'], dtype='object')\n"
     ]
    }
   ],
   "source": [
    "print(type(data))  # Check the data type\n",
    "print(data.keys())  # Inspect the keys in the dictionary\n"
   ]
  },
  {
   "cell_type": "code",
   "execution_count": 42,
   "id": "843ddf35-94c3-4cc7-9a0c-c8f8e8dc97a0",
   "metadata": {},
   "outputs": [
    {
     "name": "stdout",
     "output_type": "stream",
     "text": [
      "      hex       type  flight       r     t  alt_baro        lat         lon\n",
      "0  71c083  adsb_icao  KAL074  HL8083  B789     38000  61.179932 -173.716703\n",
      "1  c01734      other     NaN  C-FIUL  B77W     32000  57.906609 -171.506378\n"
     ]
    }
   ],
   "source": [
    "print (df)"
   ]
  },
  {
   "cell_type": "code",
   "execution_count": 43,
   "id": "b34769fc-8c09-4f08-897e-59a3273485f0",
   "metadata": {},
   "outputs": [
    {
     "name": "stdout",
     "output_type": "stream",
     "text": [
      "Data saved as 'cleaned_aircraft_data.csv'.\n"
     ]
    }
   ],
   "source": [
    "from pandas import json_normalize\n",
    "\n",
    "# Flatten the JSON into a tabular format\n",
    "df = json_normalize(data)\n",
    "\n",
    "# Rename columns as needed\n",
    "df = df.rename(columns={\n",
    "    'lat': 'Latitude',\n",
    "    'lon': 'Longitude',\n",
    "    'alt_baro': 'Altitude_Barometer'\n",
    "})\n",
    "\n",
    "# Save to CSV\n",
    "df.to_csv(\"cleaned_aircraft_data.csv\", index=False)\n",
    "print(\"Data saved as 'cleaned_aircraft_data.csv'.\")\n"
   ]
  },
  {
   "cell_type": "code",
   "execution_count": 44,
   "id": "cc88958c-9ceb-456a-96ac-6443a1de2f5a",
   "metadata": {},
   "outputs": [
    {
     "name": "stdout",
     "output_type": "stream",
     "text": [
      "               now   messages  \\\n",
      "0     1.704067e+09  148041829   \n",
      "1     1.704067e+09  148041829   \n",
      "2     1.704067e+09  148041829   \n",
      "3     1.704067e+09  148041829   \n",
      "4     1.704067e+09  148041829   \n",
      "...            ...        ...   \n",
      "8559  1.704067e+09  148041829   \n",
      "8560  1.704067e+09  148041829   \n",
      "8561  1.704067e+09  148041829   \n",
      "8562  1.704067e+09  148041829   \n",
      "8563  1.704067e+09  148041829   \n",
      "\n",
      "                                               aircraft  \n",
      "0     {'hex': '71c083', 'type': 'adsb_icao', 'flight...  \n",
      "1     {'hex': 'c01734', 'type': 'other', 'r': 'C-FIU...  \n",
      "2     {'hex': '86e800', 'type': 'other', 'r': 'JA875...  \n",
      "3     {'hex': '86eb36', 'type': 'other', 'flight': '...  \n",
      "4     {'hex': '86d9f4', 'type': 'other', 'r': 'JA837...  \n",
      "...                                                 ...  \n",
      "8559  {'hex': 'a7d1ef', 'type': 'adsb_icao', 'r': 'N...  \n",
      "8560  {'hex': 'adfa39', 'type': 'mode_s', 'dbFlags':...  \n",
      "8561  {'hex': '~2d4797', 'type': 'tisb_other', 'gs':...  \n",
      "8562  {'hex': '~31ce39', 'type': 'tisb_other', 'alt_...  \n",
      "8563  {'hex': '~31c016', 'type': 'tisb_other', 'alt_...  \n",
      "\n",
      "[8564 rows x 3 columns]\n"
     ]
    }
   ],
   "source": [
    "print(data)"
   ]
  },
  {
   "cell_type": "code",
   "execution_count": 45,
   "id": "581c0162-0c21-47b1-a447-c7f7596fa740",
   "metadata": {},
   "outputs": [
    {
     "name": "stdout",
     "output_type": "stream",
     "text": [
      "            now   messages     hex       type    flight       r     t  \\\n",
      "0  1.704067e+09  148041829  71c083  adsb_icao  KAL074    HL8083  B789   \n",
      "1  1.704067e+09  148041829  c01734      other       NaN  C-FIUL  B77W   \n",
      "2  1.704067e+09  148041829  86e800      other       NaN  JA875A  B789   \n",
      "3  1.704067e+09  148041829  86eb36      other  JAL9      JA882J  B789   \n",
      "4  1.704067e+09  148041829  86d9f4      other       NaN  JA837A  B789   \n",
      "\n",
      "  alt_baro  alt_geom     gs  ...  gpsOkBefore  gpsOkLat gpsOkLon rr_lat  \\\n",
      "0    38000   35325.0  480.9  ...          NaN       NaN      NaN    NaN   \n",
      "1    32000       NaN  473.0  ...          NaN       NaN      NaN    NaN   \n",
      "2    39975   37425.0  479.9  ...          NaN       NaN      NaN    NaN   \n",
      "3    38975   36475.0    NaN  ...          NaN       NaN      NaN    NaN   \n",
      "4    40975       NaN  479.0  ...          NaN       NaN      NaN    NaN   \n",
      "\n",
      "  rr_lon  lastPosition.lat  lastPosition.lon  lastPosition.nic  \\\n",
      "0    NaN               NaN               NaN               NaN   \n",
      "1    NaN               NaN               NaN               NaN   \n",
      "2    NaN               NaN               NaN               NaN   \n",
      "3    NaN               NaN               NaN               NaN   \n",
      "4    NaN               NaN               NaN               NaN   \n",
      "\n",
      "  lastPosition.rc  lastPosition.seen_pos  \n",
      "0             NaN                    NaN  \n",
      "1             NaN                    NaN  \n",
      "2             NaN                    NaN  \n",
      "3             NaN                    NaN  \n",
      "4             NaN                    NaN  \n",
      "\n",
      "[5 rows x 64 columns]\n"
     ]
    }
   ],
   "source": [
    "# Expand the 'aircraft' column into separate columns\n",
    "aircraft_expanded = pd.json_normalize(data['aircraft'])\n",
    "\n",
    "# Combine the expanded columns with the rest of the DataFrame\n",
    "df_flattened = pd.concat([data.drop(columns=['aircraft']), aircraft_expanded], axis=1)\n",
    "\n",
    "# Preview the flattened DataFrame\n",
    "print(df_flattened.head())\n"
   ]
  },
  {
   "cell_type": "code",
   "execution_count": 46,
   "id": "1473cb4d-c928-48de-b27d-220b117c8759",
   "metadata": {},
   "outputs": [],
   "source": [
    "# Rename columns for better clarity\n",
    "df_flattened = df_flattened.rename(columns={\n",
    "    'hex': 'Hex_Code',\n",
    "    'type': 'Aircraft_Type',\n",
    "    'flight': 'Flight_Number',\n",
    "    'alt_baro': 'Barometric_Altitude',\n",
    "    'alt_geom': 'Geometric_Altitude',\n",
    "    'lat': 'Latitude',\n",
    "    'lon': 'Longitude',\n",
    "    'gs': 'Ground_Speed',\n",
    "    'r': 'Registration'\n",
    "})\n"
   ]
  },
  {
   "cell_type": "code",
   "execution_count": 47,
   "id": "239cb79d-723b-4db0-aeae-eb2ac6ca41a7",
   "metadata": {},
   "outputs": [
    {
     "name": "stdout",
     "output_type": "stream",
     "text": [
      "Data saved as 'cleaned_aircraft_data.csv'.\n"
     ]
    }
   ],
   "source": [
    "# Save the cleaned and flattened data to a CSV\n",
    "df_flattened.to_csv(\"cleaned_aircraft_data.csv\", index=False)\n",
    "\n",
    "print(\"Data saved as 'cleaned_aircraft_data.csv'.\")\n"
   ]
  },
  {
   "cell_type": "code",
   "execution_count": null,
   "id": "6d6dbffa-2d55-4dbc-8d86-143b1fd8496b",
   "metadata": {},
   "outputs": [],
   "source": []
  }
 ],
 "metadata": {
  "kernelspec": {
   "display_name": "Python 3 (ipykernel)",
   "language": "python",
   "name": "python3"
  },
  "language_info": {
   "codemirror_mode": {
    "name": "ipython",
    "version": 3
   },
   "file_extension": ".py",
   "mimetype": "text/x-python",
   "name": "python",
   "nbconvert_exporter": "python",
   "pygments_lexer": "ipython3",
   "version": "3.13.1"
  }
 },
 "nbformat": 4,
 "nbformat_minor": 5
}
